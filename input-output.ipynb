{
 "cells": [
  {
   "cell_type": "markdown",
   "metadata": {},
   "source": [
    "# Output"
   ]
  },
  {
   "cell_type": "code",
   "execution_count": 1,
   "metadata": {},
   "outputs": [
    {
     "name": "stdout",
     "output_type": "stream",
     "text": [
      "string\n"
     ]
    }
   ],
   "source": [
    "print (\"string\")"
   ]
  },
  {
   "cell_type": "code",
   "execution_count": 2,
   "metadata": {},
   "outputs": [
    {
     "name": "stdout",
     "output_type": "stream",
     "text": [
      "The value of x is : 12\n"
     ]
    }
   ],
   "source": [
    "x = 12\n",
    "print (\"The value of x is :\",x)"
   ]
  },
  {
   "cell_type": "markdown",
   "metadata": {},
   "source": [
    "# Input\n",
    "## read 2 Integer and print the sum of the numbers"
   ]
  },
  {
   "cell_type": "code",
   "execution_count": 3,
   "metadata": {},
   "outputs": [
    {
     "name": "stdout",
     "output_type": "stream",
     "text": [
      "The sum is: 10\n"
     ]
    }
   ],
   "source": [
    "n1 = input(\"Enter The First Number: \")\n",
    "n1 = int (n1)\n",
    "n2 = input(\"Enter The Secound Number: \")\n",
    "n2 = int (n2)\n",
    "r = n1+n2\n",
    "print (\"The sum is:\",r)"
   ]
  },
  {
   "cell_type": "code",
   "execution_count": 4,
   "metadata": {},
   "outputs": [
    {
     "data": {
      "text/plain": [
       "float"
      ]
     },
     "execution_count": 4,
     "metadata": {},
     "output_type": "execute_result"
    }
   ],
   "source": [
    "\n",
    "x = input (\"Enter a number\")\n",
    "x = float (x)\n",
    "type(x)"
   ]
  },
  {
   "cell_type": "markdown",
   "metadata": {},
   "source": []
  },
  {
   "cell_type": "code",
   "execution_count": 11,
   "metadata": {},
   "outputs": [
    {
     "name": "stdout",
     "output_type": "stream",
     "text": [
      "HI\n",
      "HIHIHIHIHI\n"
     ]
    }
   ],
   "source": [
    "str1 = (\"HI\")\n",
    "\n",
    "print (str1)\n",
    "\n",
    "print (str1 *  5)"
   ]
  },
  {
   "cell_type": "code",
   "execution_count": 14,
   "metadata": {},
   "outputs": [
    {
     "name": "stdout",
     "output_type": "stream",
     "text": [
      "Hi \"BUC\" \n",
      "Hi 'BUC' \n",
      "Hi \"BUC\" \n",
      "Hi \\?BUC\\? \n",
      "Hi \\BUC\\ \n",
      "Hi \u0007BUC\u0007 \n",
      "HiBU \n",
      "Hi \fBUC\f \n",
      "Hi \n",
      "BUC\n",
      " \n",
      " UC\n",
      "Hi \tBUC\t \n",
      "Hi \u000bBUC\u000b \n"
     ]
    }
   ],
   "source": [
    "str2 = ('Hi \"BUC\" ')\n",
    "str3 = ('Hi \\'BUC\\' ')\n",
    "str4 = ('Hi \\\"BUC\\\" ')\n",
    "str5 = ('Hi \\?BUC\\? ')\n",
    "str6 = ('Hi \\\\BUC\\\\ ')\n",
    "str7 = ('Hi \\aBUC\\a ')\n",
    "str8 = ('Hi \\bBUC\\b ')\n",
    "str9 = ('Hi \\fBUC\\f ')\n",
    "str10 = ('Hi \\nBUC\\n ')\n",
    "str11 = ('Hi \\rBUC\\r ')\n",
    "str12 = ('Hi \\tBUC\\t ')\n",
    "str13 = ('Hi \\vBUC\\v ')\n",
    "\n",
    "print (str2)\n",
    "print (str3)\n",
    "print (str4)\n",
    "print (str5)\n",
    "print (str6)\n",
    "print (str7)\n",
    "print (str8)\n",
    "print (str9)\n",
    "print (str10)\n",
    "print (str11)\n",
    "print (str12)\n",
    "print (str13)"
   ]
  }
 ],
 "metadata": {
  "kernelspec": {
   "display_name": "Python 3",
   "language": "python",
   "name": "python3"
  },
  "language_info": {
   "codemirror_mode": {
    "name": "ipython",
    "version": 3
   },
   "file_extension": ".py",
   "mimetype": "text/x-python",
   "name": "python",
   "nbconvert_exporter": "python",
   "pygments_lexer": "ipython3",
   "version": "3.10.8"
  }
 },
 "nbformat": 4,
 "nbformat_minor": 2
}
