{
 "cells": [
  {
   "cell_type": "markdown",
   "metadata": {},
   "source": [
    "# IF & ELIF & ELSE"
   ]
  },
  {
   "cell_type": "code",
   "execution_count": 3,
   "metadata": {},
   "outputs": [
    {
     "name": "stdout",
     "output_type": "stream",
     "text": [
      "You have Entered : 6\n",
      "The number is Positive\n",
      "End of programm\n"
     ]
    }
   ],
   "source": [
    "x =int (input(\"Enter The Number\"))\n",
    "if  x>0:\n",
    "    print (\"You have Entered :\", x)\n",
    "    print (\"The number is Positive\")\n",
    "elif x<0:\n",
    "    print (\"You have Entered : \", x)\n",
    "    print (\"The number is Negative\")\n",
    "else:\n",
    "    print (\"You have Entered : \", x)\n",
    "    print (\"The number is ZERO\")\n",
    "print (\"End of programm\")"
   ]
  }
 ],
 "metadata": {
  "kernelspec": {
   "display_name": "Python 3",
   "language": "python",
   "name": "python3"
  },
  "language_info": {
   "codemirror_mode": {
    "name": "ipython",
    "version": 3
   },
   "file_extension": ".py",
   "mimetype": "text/x-python",
   "name": "python",
   "nbconvert_exporter": "python",
   "pygments_lexer": "ipython3",
   "version": "3.10.8"
  }
 },
 "nbformat": 4,
 "nbformat_minor": 2
}
