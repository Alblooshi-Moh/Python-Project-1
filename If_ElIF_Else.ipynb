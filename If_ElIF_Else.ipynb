{
 "cells": [
  {
   "cell_type": "markdown",
   "metadata": {},
   "source": [
    "# IF & ELIF & ELSE"
   ]
  },
  {
   "cell_type": "code",
   "execution_count": null,
   "metadata": {},
   "outputs": [
    {
     "name": "stdout",
     "output_type": "stream",
     "text": [
      "The number 5 is Positive\n",
      "End of programme\n"
     ]
    }
   ],
   "source": [
    "x =int (input(\"Enter The Number\"))\n",
    "if  x>0:\n",
    "    \n",
    "    print (\"The number\" ,x, \"is Positive\")\n",
    "elif x<0:\n",
    "    \n",
    "    print (\"The number\" ,x, \"is Negative\")\n",
    "else:\n",
    "    \n",
    "    print (\"The number\" ,x, \"is ZERO\")\n",
    "print (\"End of programme\")"
   ]
  },
  {
   "cell_type": "markdown",
   "metadata": {},
   "source": [
    "### Write a programme that checks if the number is divisible by 7"
   ]
  },
  {
   "cell_type": "code",
   "execution_count": null,
   "metadata": {},
   "outputs": [
    {
     "name": "stdout",
     "output_type": "stream",
     "text": [
      "The number the number 55 is divisible by 7\n",
      "End of programme\n"
     ]
    }
   ],
   "source": [
    "b =int (input(\"Enter The Number\"))\n",
    "if y%7 == 0:\n",
    "    print (\"You have Entered :\", b)\n",
    "    print (\"The number is\" ,b, \"divisible by 7\")\n",
    "else:\n",
    "    print (\"The number the number\" ,b, \"is divisible by 7\")\n",
    "\n",
    "print (\"End of programme\")"
   ]
  },
  {
   "cell_type": "markdown",
   "metadata": {},
   "source": [
    "# Write a programme that check if the number is Even or Odd ?"
   ]
  },
  {
   "cell_type": "code",
   "execution_count": null,
   "metadata": {},
   "outputs": [
    {
     "name": "stdout",
     "output_type": "stream",
     "text": [
      "You have Entered : 2\n",
      "The number is Even\n",
      "End of programme\n"
     ]
    }
   ],
   "source": [
    "y =int (input(\"Enter The Number\"))\n",
    "if y%2 == 0:\n",
    "    print (\"You have Entered :\", y)\n",
    "    print (\"The number is Even\")\n",
    "else:\n",
    "    print (\"The number Odd\")\n",
    "\n",
    "print (\"End of programme\")"
   ]
  },
  {
   "cell_type": "markdown",
   "metadata": {},
   "source": [
    "# While"
   ]
  },
  {
   "cell_type": "code",
   "execution_count": null,
   "metadata": {},
   "outputs": [],
   "source": [
    "w = 'Q'\n",
    "while w!='quit':\n",
    "    w = input (\"Enter a string (quit)\")"
   ]
  },
  {
   "cell_type": "markdown",
   "metadata": {},
   "source": [
    "# For Loop"
   ]
  },
  {
   "cell_type": "markdown",
   "metadata": {},
   "source": [
    "## write a programme that counts from 100 to 120"
   ]
  },
  {
   "cell_type": "code",
   "execution_count": null,
   "metadata": {},
   "outputs": [
    {
     "name": "stdout",
     "output_type": "stream",
     "text": [
      "100, 101, 102, 103, 104, 105, 106, 107, 108, 109, 110, 111, 112, 113, 114, 115, 116, 117, 118, 119, 120, "
     ]
    }
   ],
   "source": [
    "for i in range (100, 121):\n",
    "    print (i, end= \", \")"
   ]
  },
  {
   "cell_type": "markdown",
   "metadata": {},
   "source": [
    "## write a programme that prints the EVEN number between 100 and 70"
   ]
  },
  {
   "cell_type": "code",
   "execution_count": null,
   "metadata": {},
   "outputs": [
    {
     "name": "stdout",
     "output_type": "stream",
     "text": [
      "100, 98, 96, 94, 92, 90, 88, 86, 84, 82, 80, 78, 76, 74, 72, 70, "
     ]
    }
   ],
   "source": [
    "for h in range(100 ,69, -2 ):\n",
    "    print (h, end= \", \")"
   ]
  },
  {
   "cell_type": "markdown",
   "metadata": {},
   "source": [
    "## write a programme that count the sequence 2, 4, 8 ... 40"
   ]
  },
  {
   "cell_type": "code",
   "execution_count": null,
   "metadata": {},
   "outputs": [],
   "source": [
    "l = 2\n",
    "while (l<=40):\n",
    "    print (l, end= \", \")\n",
    "    x = x*2\n"
   ]
  },
  {
   "cell_type": "markdown",
   "metadata": {},
   "source": [
    "## write a programme that reade the mark of unkown number of nsrudents and prints them, the programme stops execution when the user enter negative number\n",
    "\n"
   ]
  },
  {
   "cell_type": "code",
   "execution_count": 1,
   "metadata": {},
   "outputs": [
    {
     "name": "stdout",
     "output_type": "stream",
     "text": [
      "The mark is  23\n",
      "The mark is  33\n",
      "The mark is  44\n",
      "The mark is  50\n",
      "The mark is  690\n",
      "The mark is  94\n",
      "The mark is  94\n",
      "The mark is  93\n",
      "The mark is  93\n",
      "The mark is  0\n"
     ]
    }
   ],
   "source": [
    "k = 1\n",
    "while k >0:\n",
    "    k = int (input(\"Enter the mark: \"))\n",
    "    print (\"The mark is \",k)"
   ]
  }
 ],
 "metadata": {
  "kernelspec": {
   "display_name": "Python 3",
   "language": "python",
   "name": "python3"
  },
  "language_info": {
   "codemirror_mode": {
    "name": "ipython",
    "version": 3
   },
   "file_extension": ".py",
   "mimetype": "text/x-python",
   "name": "python",
   "nbconvert_exporter": "python",
   "pygments_lexer": "ipython3",
   "version": "3.10.8"
  }
 },
 "nbformat": 4,
 "nbformat_minor": 2
}
