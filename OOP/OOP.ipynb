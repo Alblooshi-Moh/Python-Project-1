{
 "cells": [
  {
   "cell_type": "markdown",
   "metadata": {},
   "source": [
    "##\n",
    "#"
   ]
  },
  {
   "cell_type": "code",
   "execution_count": 31,
   "metadata": {},
   "outputs": [],
   "source": [
    "class Car: \n",
    "    def __init__(self,brand1,model1,price1):\n",
    "        assert price1>300 , \"Price should be grater than 300\"\n",
    "        self.brand = brand1\n",
    "        self.model = model1\n",
    "        self.price = price1\n",
    "    def Display(self):\n",
    "            print(\"The Brand is:\",self.brand)\n",
    "            print(\"The model is:\",self.model)\n",
    "            print(\"The price is:\",self.price)\n",
    "    def retBrand(self):\n",
    "         return self.brand\n",
    "    \n",
    "    def changeprice(self, newprice):\n",
    "         self.price = newprice\n",
    "\n",
    "    def gettax(self):\n",
    "         return self.price * 0.05\n",
    "\n",
    "\n",
    "\n",
    "\n"
   ]
  },
  {
   "cell_type": "markdown",
   "metadata": {},
   "source": [
    "##\n",
    "#"
   ]
  },
  {
   "cell_type": "code",
   "execution_count": 34,
   "metadata": {},
   "outputs": [
    {
     "name": "stdout",
     "output_type": "stream",
     "text": [
      "The Brand is: Toyota\n",
      "The model is: 2020\n",
      "The price is: 8500.4\n"
     ]
    },
    {
     "data": {
      "text/plain": [
       "'Toyota'"
      ]
     },
     "execution_count": 34,
     "metadata": {},
     "output_type": "execute_result"
    }
   ],
   "source": [
    "c1 = Car (\"Toyota\", 2020, 8500.4)\n",
    "x = c1.retBrand()\n",
    "c1.Display()\n",
    "x\n"
   ]
  },
  {
   "cell_type": "code",
   "execution_count": 28,
   "metadata": {},
   "outputs": [
    {
     "name": "stdout",
     "output_type": "stream",
     "text": [
      "The Brand is: Toyota\n",
      "The model is: 2020\n",
      "The price is: 9000\n"
     ]
    }
   ],
   "source": [
    "c1.changeprice(9000)\n",
    "c1.Display()"
   ]
  },
  {
   "cell_type": "markdown",
   "metadata": {},
   "source": [
    "##\n",
    "#"
   ]
  },
  {
   "cell_type": "code",
   "execution_count": 30,
   "metadata": {},
   "outputs": [
    {
     "data": {
      "text/plain": [
       "450.0"
      ]
     },
     "execution_count": 30,
     "metadata": {},
     "output_type": "execute_result"
    }
   ],
   "source": [
    "c1.gettax()"
   ]
  },
  {
   "cell_type": "code",
   "execution_count": 18,
   "metadata": {},
   "outputs": [
    {
     "name": "stdout",
     "output_type": "stream",
     "text": [
      "The Brand is: Toyota\n",
      "The model is: 2020\n",
      "The price is: 12300\n"
     ]
    }
   ],
   "source": [
    "c1.price = 12300\n",
    "c1.Display()"
   ]
  },
  {
   "cell_type": "code",
   "execution_count": 19,
   "metadata": {},
   "outputs": [
    {
     "name": "stdout",
     "output_type": "stream",
     "text": [
      "The Brand is: Nissan\n",
      "The model is: 2020\n",
      "The price is: 7000\n"
     ]
    }
   ],
   "source": [
    "c2 = Car (\"Nissan\", 2020, 7000)\n",
    "c2.Display()"
   ]
  },
  {
   "cell_type": "code",
   "execution_count": 20,
   "metadata": {},
   "outputs": [
    {
     "data": {
      "text/plain": [
       "19300"
      ]
     },
     "execution_count": 20,
     "metadata": {},
     "output_type": "execute_result"
    }
   ],
   "source": [
    "t = c1.price + c2.price\n",
    "t"
   ]
  },
  {
   "cell_type": "code",
   "execution_count": 50,
   "metadata": {},
   "outputs": [],
   "source": [
    "class Student:\n",
    "    def __init__(self, Name1, ID1, GPA1):\n",
    "        assert GPA1 > 0 , \"GPA Should not be lees than 0\"\n",
    "        assert GPA1 < 4 , \"GPA Should not be grater than 4\"\n",
    "        self.Name = Name1\n",
    "        self.ID = ID1\n",
    "        self.GPA = GPA1\n",
    "    def Display(self):\n",
    "        print(\"Name is :\",self.Name)\n",
    "        print(\"ID is :\",self.ID)\n",
    "        print(\"GPA is :\",self.GPA)\n",
    "    def Atrisk(self):\n",
    "        if self.GPA1<2.0: return \"AT Risk\"\n",
    "        else: return \"No Risk\"\n",
    "\n",
    "\n",
    "        "
   ]
  },
  {
   "cell_type": "code",
   "execution_count": 53,
   "metadata": {},
   "outputs": [
    {
     "ename": "AttributeError",
     "evalue": "'Student' object has no attribute 'DisplayInfo'",
     "output_type": "error",
     "traceback": [
      "\u001b[0;31m---------------------------------------------------------------------------\u001b[0m",
      "\u001b[0;31mAttributeError\u001b[0m                            Traceback (most recent call last)",
      "Cell \u001b[0;32mIn[53], line 2\u001b[0m\n\u001b[1;32m      1\u001b[0m s1 \u001b[38;5;241m=\u001b[39m Student(\u001b[38;5;124m\"\u001b[39m\u001b[38;5;124mAli\u001b[39m\u001b[38;5;124m\"\u001b[39m,\u001b[38;5;124m\"\u001b[39m\u001b[38;5;124m123\u001b[39m\u001b[38;5;124m\"\u001b[39m, \u001b[38;5;241m2.5\u001b[39m)\n\u001b[0;32m----> 2\u001b[0m \u001b[43ms1\u001b[49m\u001b[38;5;241;43m.\u001b[39;49m\u001b[43mDisplayInfo\u001b[49m()\n\u001b[1;32m      3\u001b[0m s1\u001b[38;5;241m.\u001b[39mAtrisk()\n",
      "\u001b[0;31mAttributeError\u001b[0m: 'Student' object has no attribute 'DisplayInfo'"
     ]
    }
   ],
   "source": [
    "s1 = Student(\"Ali\",\"123\", 2.5)\n",
    "s1.DisplayInfo()\n",
    "s1.Atrisk()"
   ]
  },
  {
   "cell_type": "code",
   "execution_count": 43,
   "metadata": {},
   "outputs": [],
   "source": [
    "class Rectangle:\n",
    "        def __init__(self ,widthe1, height1):\n",
    "                assert widthe1 > 0, \"The widthe could not be 0\"\n",
    "                assert height1 > 0, \"The height could not be 0\"\n",
    "                self.widthe = widthe1\n",
    "                self.height = height1\n",
    "        def Display(self):\n",
    "                        print(\"W= :\", self.widthe)\n",
    "                        print(\"H= :\", self.height)\n",
    "        def Area(self):\n",
    "                a = self.height * self.widthe\n",
    "                return a\n",
    "        def cercumf (self):\n",
    "                return (2 *(self.height + self.widthe))"
   ]
  },
  {
   "cell_type": "code",
   "execution_count": 44,
   "metadata": {},
   "outputs": [
    {
     "name": "stdout",
     "output_type": "stream",
     "text": [
      "W= : 4\n",
      "H= : 2\n"
     ]
    }
   ],
   "source": [
    "r = Rectangle(4,2)\n",
    "r.Display()\n",
    "x = r.Area"
   ]
  },
  {
   "cell_type": "code",
   "execution_count": null,
   "metadata": {},
   "outputs": [],
   "source": []
  },
  {
   "cell_type": "code",
   "execution_count": null,
   "metadata": {},
   "outputs": [],
   "source": []
  }
 ],
 "metadata": {
  "kernelspec": {
   "display_name": "Python 3",
   "language": "python",
   "name": "python3"
  },
  "language_info": {
   "codemirror_mode": {
    "name": "ipython",
    "version": 3
   },
   "file_extension": ".py",
   "mimetype": "text/x-python",
   "name": "python",
   "nbconvert_exporter": "python",
   "pygments_lexer": "ipython3",
   "version": "3.10.8"
  }
 },
 "nbformat": 4,
 "nbformat_minor": 2
}
