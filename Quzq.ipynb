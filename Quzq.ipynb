{
 "cells": [
  {
   "cell_type": "markdown",
   "metadata": {},
   "source": [
    "# Write a programm that reads 3 marks of a Student and prints the avarage of the marks"
   ]
  },
  {
   "cell_type": "code",
   "execution_count": 3,
   "metadata": {},
   "outputs": [
    {
     "name": "stdout",
     "output_type": "stream",
     "text": [
      " The Avarage is : 50.0\n"
     ]
    }
   ],
   "source": [
    "A =float (input(\"Enter The First Number\"))\n",
    "B =float (input(\"Enter The Second Number\"))\n",
    "C =float (input(\"Enter The Theerd Number\"))\n",
    "ABC =  A+B+C\n",
    "Avg = ABC/3\n",
    "print (\" The Avarage is :\", Avg)"
   ]
  }
 ],
 "metadata": {
  "kernelspec": {
   "display_name": "Python 3",
   "language": "python",
   "name": "python3"
  },
  "language_info": {
   "codemirror_mode": {
    "name": "ipython",
    "version": 3
   },
   "file_extension": ".py",
   "mimetype": "text/x-python",
   "name": "python",
   "nbconvert_exporter": "python",
   "pygments_lexer": "ipython3",
   "version": "3.10.8"
  }
 },
 "nbformat": 4,
 "nbformat_minor": 2
}
