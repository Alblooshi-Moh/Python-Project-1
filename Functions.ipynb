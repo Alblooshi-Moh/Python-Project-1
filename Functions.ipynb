{
 "cells": [
  {
   "cell_type": "markdown",
   "metadata": {},
   "source": [
    "# write a programme thet reads tow numbers and prints the largest numbser"
   ]
  },
  {
   "cell_type": "code",
   "execution_count": 6,
   "metadata": {},
   "outputs": [
    {
     "name": "stdout",
     "output_type": "stream",
     "text": [
      "The larger number is : 12\n"
     ]
    }
   ],
   "source": [
    "n1 = input(\"Enter the first number\")\n",
    "n1 = int (n1)\n",
    "n2 = input(\"Enter the first number\")\n",
    "n2 = int (n2)\n",
    "if n1>n2:\n",
    "    print (\"The larger number is :\", n1)\n",
    "else:\n",
    "    print (\"The larger number is :\", n2)\n"
   ]
  },
  {
   "cell_type": "markdown",
   "metadata": {},
   "source": [
    "Using functions"
   ]
  },
  {
   "cell_type": "code",
   "execution_count": 7,
   "metadata": {},
   "outputs": [],
   "source": [
    "def ReadInt():\n",
    "    x = input (\"Enter an Integer: \")\n",
    "    x = int (x)\n",
    "    return x\n",
    "def Max2(x, y):\n",
    "    if x>y:\n",
    "        return x\n",
    "    else:\n",
    "        return y"
   ]
  },
  {
   "cell_type": "code",
   "execution_count": 8,
   "metadata": {},
   "outputs": [
    {
     "name": "stdout",
     "output_type": "stream",
     "text": [
      "The Max is : 16\n"
     ]
    }
   ],
   "source": [
    "n1 = ReadInt()\n",
    "n2 = ReadInt()\n",
    "mx = Max2(n1,n2)\n",
    "print(\"The Max is :\", mx)\n"
   ]
  },
  {
   "cell_type": "markdown",
   "metadata": {},
   "source": [
    "# write a function that takes three numbers and returnt the largest one"
   ]
  },
  {
   "cell_type": "code",
   "execution_count": 9,
   "metadata": {},
   "outputs": [],
   "source": [
    "    \n",
    "def Max3(x, y, z):\n",
    "    if x>y and x>z:\n",
    "        return x\n",
    "    \n",
    "    elif y>x and y>z:\n",
    "        return y\n",
    "\n",
    "    else:\n",
    "        return z\n",
    "    "
   ]
  },
  {
   "cell_type": "code",
   "execution_count": 10,
   "metadata": {},
   "outputs": [
    {
     "name": "stdout",
     "output_type": "stream",
     "text": [
      "The max number is: 21\n"
     ]
    }
   ],
   "source": [
    "n1 = ReadInt()\n",
    "n2 = ReadInt()\n",
    "n3 = ReadInt()\n",
    "mx = Max3(n1,n2,n3)\n",
    "print(\"The max number is:\", mx)"
   ]
  },
  {
   "cell_type": "markdown",
   "metadata": {},
   "source": []
  },
  {
   "cell_type": "code",
   "execution_count": 11,
   "metadata": {},
   "outputs": [
    {
     "data": {
      "text/plain": [
       "13"
      ]
     },
     "execution_count": 11,
     "metadata": {},
     "output_type": "execute_result"
    }
   ],
   "source": [
    "n1 = 4\n",
    "n2 = 10\n",
    "n3 = 7\n",
    "n4 = 13\n",
    "m1 = Max2 (n1,n2)\n",
    "m2 = Max2 (n3,n4)\n",
    "mx = Max2 (m1 ,m2)\n",
    "mx\n"
   ]
  },
  {
   "cell_type": "code",
   "execution_count": 12,
   "metadata": {},
   "outputs": [
    {
     "data": {
      "text/plain": [
       "13"
      ]
     },
     "execution_count": 12,
     "metadata": {},
     "output_type": "execute_result"
    }
   ],
   "source": [
    "Max2(Max2(n1,n2), Max2(n3,n4))"
   ]
  },
  {
   "cell_type": "markdown",
   "metadata": {},
   "source": [
    "# wirtea function that finde the sum of the element of a list"
   ]
  },
  {
   "cell_type": "code",
   "execution_count": null,
   "metadata": {},
   "outputs": [],
   "source": []
  },
  {
   "cell_type": "markdown",
   "metadata": {},
   "source": [
    "# Write a function that gets a list and ruturned the max number in the list"
   ]
  },
  {
   "cell_type": "code",
   "execution_count": 13,
   "metadata": {},
   "outputs": [],
   "source": [
    "def MaxList():\n",
    "    mx = L[0]\n",
    "    for i in range (1, len(L)):\n",
    "        if L[i]>mx:\n",
    "            mx = L[i]\n",
    "\n",
    "    return mx\n",
    "        \n"
   ]
  },
  {
   "cell_type": "markdown",
   "metadata": {},
   "source": [
    "## Local VS Global\n",
    "\n"
   ]
  },
  {
   "cell_type": "code",
   "execution_count": 15,
   "metadata": {},
   "outputs": [
    {
     "name": "stdout",
     "output_type": "stream",
     "text": [
      "x before calling the function 5\n",
      "X Inside the function 6\n",
      "x after caliing the function 5\n"
     ]
    }
   ],
   "source": [
    "x =5\n",
    "def test():\n",
    "    x=6\n",
    "    print (\"X Inside the function\",x)\n",
    "print (\"x before calling the function\", x)\n",
    "test()\n",
    "print(\"x after caliing the function\",x)"
   ]
  }
 ],
 "metadata": {
  "kernelspec": {
   "display_name": "Python 3",
   "language": "python",
   "name": "python3"
  },
  "language_info": {
   "codemirror_mode": {
    "name": "ipython",
    "version": 3
   },
   "file_extension": ".py",
   "mimetype": "text/x-python",
   "name": "python",
   "nbconvert_exporter": "python",
   "pygments_lexer": "ipython3",
   "version": "3.10.8"
  }
 },
 "nbformat": 4,
 "nbformat_minor": 2
}
