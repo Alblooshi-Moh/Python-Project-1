{
 "cells": [
  {
   "cell_type": "markdown",
   "metadata": {},
   "source": [
    "# write a programme thet reads tow numbers and prints the largest numbser"
   ]
  },
  {
   "cell_type": "code",
   "execution_count": 21,
   "metadata": {},
   "outputs": [
    {
     "name": "stdout",
     "output_type": "stream",
     "text": [
      "The larger number is : 10\n"
     ]
    }
   ],
   "source": [
    "n1 = input(\"Enter the first number\")\n",
    "n1 = int (n1)\n",
    "n2 = input(\"Enter the first number\")\n",
    "n2 = int (n2)\n",
    "if n1>n2:\n",
    "    print (\"The larger number is :\", n1)\n",
    "else:\n",
    "    print (\"The larger number is :\", n2)\n"
   ]
  },
  {
   "cell_type": "markdown",
   "metadata": {},
   "source": [
    "Using functions"
   ]
  },
  {
   "cell_type": "code",
   "execution_count": 22,
   "metadata": {},
   "outputs": [],
   "source": [
    "def ReadInt():\n",
    "    x = input (\"Enter an Integer: \")\n",
    "    x = int (x)\n",
    "    return x\n",
    "def Max2(x, y):\n",
    "    if x>y:\n",
    "        return x\n",
    "    else:\n",
    "        return y"
   ]
  },
  {
   "cell_type": "code",
   "execution_count": 23,
   "metadata": {},
   "outputs": [
    {
     "name": "stdout",
     "output_type": "stream",
     "text": [
      "The Max is : 10\n"
     ]
    }
   ],
   "source": [
    "n1 = ReadInt()\n",
    "n2 = ReadInt()\n",
    "mx = Max2(n1,n2)\n",
    "print(\"The Max is :\", mx)\n"
   ]
  },
  {
   "cell_type": "markdown",
   "metadata": {},
   "source": [
    "# write a function that takes three numbers and returnt the largest one"
   ]
  },
  {
   "cell_type": "code",
   "execution_count": 24,
   "metadata": {},
   "outputs": [],
   "source": [
    "    \n",
    "def Max3(x, y, z):\n",
    "    if x>y and x>z:\n",
    "        return x\n",
    "    \n",
    "    elif y>x and y>z:\n",
    "        return y\n",
    "\n",
    "    else:\n",
    "        return z\n",
    "    "
   ]
  },
  {
   "cell_type": "code",
   "execution_count": 25,
   "metadata": {},
   "outputs": [
    {
     "name": "stdout",
     "output_type": "stream",
     "text": [
      "The max number is: 10\n"
     ]
    }
   ],
   "source": [
    "n1 = ReadInt()\n",
    "n2 = ReadInt()\n",
    "n3 = ReadInt()\n",
    "mx = Max3(n1,n2,n3)\n",
    "print(\"The max number is:\", mx)"
   ]
  },
  {
   "cell_type": "markdown",
   "metadata": {},
   "source": []
  },
  {
   "cell_type": "code",
   "execution_count": 27,
   "metadata": {},
   "outputs": [
    {
     "data": {
      "text/plain": [
       "13"
      ]
     },
     "execution_count": 27,
     "metadata": {},
     "output_type": "execute_result"
    }
   ],
   "source": [
    "n1 = 4\n",
    "n2 = 10\n",
    "n3 = 7\n",
    "n4 = 13\n",
    "m1 = Max2 (n1,n2)\n",
    "m2 = Max2 (n3,n4)\n",
    "mx = Max2 (m1 ,m2)\n",
    "mx\n"
   ]
  },
  {
   "cell_type": "code",
   "execution_count": 28,
   "metadata": {},
   "outputs": [
    {
     "data": {
      "text/plain": [
       "13"
      ]
     },
     "execution_count": 28,
     "metadata": {},
     "output_type": "execute_result"
    }
   ],
   "source": [
    "Max2(Max2(n1,n2), Max2(n3,n4))"
   ]
  },
  {
   "cell_type": "markdown",
   "metadata": {},
   "source": [
    "# wirtea function that finde the sum of the element of a list"
   ]
  },
  {
   "cell_type": "code",
   "execution_count": null,
   "metadata": {},
   "outputs": [],
   "source": []
  },
  {
   "cell_type": "markdown",
   "metadata": {},
   "source": [
    "# Write a function that gets a list and ruturned the max number in the list"
   ]
  },
  {
   "cell_type": "code",
   "execution_count": 38,
   "metadata": {},
   "outputs": [],
   "source": [
    "def MaxList():\n",
    "    mx = L[0]\n",
    "    for i in range (1, len(L)):\n",
    "        if L[i]>mx:\n",
    "            mx = L[i]\n",
    "\n",
    "    return mx\n",
    "        \n"
   ]
  },
  {
   "cell_type": "code",
   "execution_count": 39,
   "metadata": {},
   "outputs": [
    {
     "ename": "TypeError",
     "evalue": "MaxList() takes 0 positional arguments but 1 was given",
     "output_type": "error",
     "traceback": [
      "\u001b[0;31m---------------------------------------------------------------------------\u001b[0m",
      "\u001b[0;31mTypeError\u001b[0m                                 Traceback (most recent call last)",
      "\u001b[1;32m/workspaces/Python-Project-1/Functions.ipynb Cell 16\u001b[0m line \u001b[0;36m2\n\u001b[1;32m      <a href='vscode-notebook-cell://codespaces%2Bfluffy-yodel-g4qjxgwxqgpqhwrj9/workspaces/Python-Project-1/Functions.ipynb#X22sdnNjb2RlLXJlbW90ZQ%3D%3D?line=0'>1</a>\u001b[0m L1 \u001b[39m=\u001b[39m [\u001b[39m1\u001b[39m,\u001b[39m2\u001b[39m,\u001b[39m3\u001b[39m,\u001b[39m4\u001b[39m,\u001b[39m5\u001b[39m,\u001b[39m6\u001b[39m,\u001b[39m7\u001b[39m,\u001b[39m8\u001b[39m,\u001b[39m9\u001b[39m]\n\u001b[0;32m----> <a href='vscode-notebook-cell://codespaces%2Bfluffy-yodel-g4qjxgwxqgpqhwrj9/workspaces/Python-Project-1/Functions.ipynb#X22sdnNjb2RlLXJlbW90ZQ%3D%3D?line=1'>2</a>\u001b[0m z \u001b[39m=\u001b[39mMaxList(L1)\n\u001b[1;32m      <a href='vscode-notebook-cell://codespaces%2Bfluffy-yodel-g4qjxgwxqgpqhwrj9/workspaces/Python-Project-1/Functions.ipynb#X22sdnNjb2RlLXJlbW90ZQ%3D%3D?line=2'>3</a>\u001b[0m z\n",
      "\u001b[0;31mTypeError\u001b[0m: MaxList() takes 0 positional arguments but 1 was given"
     ]
    }
   ],
   "source": [
    "L1 = [1,2,3,4,5,6,7,8,9]\n",
    "z =MaxList(L1)\n",
    "z"
   ]
  }
 ],
 "metadata": {
  "kernelspec": {
   "display_name": "Python 3",
   "language": "python",
   "name": "python3"
  },
  "language_info": {
   "codemirror_mode": {
    "name": "ipython",
    "version": 3
   },
   "file_extension": ".py",
   "mimetype": "text/x-python",
   "name": "python",
   "nbconvert_exporter": "python",
   "pygments_lexer": "ipython3",
   "version": "3.10.8"
  }
 },
 "nbformat": 4,
 "nbformat_minor": 2
}
