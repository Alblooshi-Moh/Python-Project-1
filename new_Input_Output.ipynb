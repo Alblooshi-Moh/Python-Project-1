{
 "cells": [
  {
   "cell_type": "markdown",
   "metadata": {},
   "source": [
    "## Write programme that reads 2 numbers and print the sum of the two numbers"
   ]
  },
  {
   "cell_type": "code",
   "execution_count": 1,
   "metadata": {},
   "outputs": [
    {
     "name": "stdout",
     "output_type": "stream",
     "text": [
      "The result is : 57\n"
     ]
    }
   ],
   "source": [
    "a = input (\"Enter The First Number \")\n",
    "a = int (a)\n",
    "b = input (\"Enter The Second Number \")\n",
    "b = int (b)\n",
    "sum = a + b\n",
    "print (\"The result is :\", sum)"
   ]
  },
  {
   "cell_type": "markdown",
   "metadata": {},
   "source": [
    "## Write programme that reads 3 numbers and print the Mult of the three numbers"
   ]
  },
  {
   "cell_type": "markdown",
   "metadata": {},
   "source": [
    "# "
   ]
  },
  {
   "cell_type": "code",
   "execution_count": 2,
   "metadata": {},
   "outputs": [
    {
     "name": "stdout",
     "output_type": "stream",
     "text": [
      "The result is : 164.0\n"
     ]
    }
   ],
   "source": [
    "a1 = input (\"Enter The First Number \")\n",
    "a1 = float (a1)\n",
    "b1 = input (\"Enter The Second Number \")\n",
    "b1 = float (b1)\n",
    "c1 = input (\"Enter The Third Number \")\n",
    "c1 = float (c1)\n",
    "mult = a1 * b1 * c1\n",
    "print (\"The result is :\", mult)"
   ]
  },
  {
   "cell_type": "markdown",
   "metadata": {},
   "source": [
    "## Write programme that reads your name and prints a messge of welcome"
   ]
  },
  {
   "cell_type": "markdown",
   "metadata": {},
   "source": []
  },
  {
   "cell_type": "code",
   "execution_count": null,
   "metadata": {},
   "outputs": [],
   "source": []
  },
  {
   "cell_type": "markdown",
   "metadata": {},
   "source": []
  },
  {
   "cell_type": "code",
   "execution_count": null,
   "metadata": {},
   "outputs": [],
   "source": []
  },
  {
   "cell_type": "markdown",
   "metadata": {},
   "source": [
    "## using singl print instraction that write the code that print the follwing message"
   ]
  },
  {
   "cell_type": "code",
   "execution_count": 3,
   "metadata": {},
   "outputs": [
    {
     "name": "stdout",
     "output_type": "stream",
     "text": [
      "Hi\t My \n",
      "\tName is\\ \"XYZ\"\n"
     ]
    }
   ],
   "source": [
    "st = 'Hi\\t My \\n\\tName is\\ \\\"XYZ\\\"'\n",
    "print (st)"
   ]
  }
 ],
 "metadata": {
  "kernelspec": {
   "display_name": "Python 3",
   "language": "python",
   "name": "python3"
  },
  "language_info": {
   "codemirror_mode": {
    "name": "ipython",
    "version": 3
   },
   "file_extension": ".py",
   "mimetype": "text/x-python",
   "name": "python",
   "nbconvert_exporter": "python",
   "pygments_lexer": "ipython3",
   "version": "3.10.8"
  }
 },
 "nbformat": 4,
 "nbformat_minor": 2
}
